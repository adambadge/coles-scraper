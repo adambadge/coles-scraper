{
 "cells": [
  {
   "cell_type": "code",
   "execution_count": 72,
   "metadata": {
    "collapsed": true
   },
   "outputs": [],
   "source": [
    "import requests\n",
    "\n",
    "url = 'https://api.coles.com.au/customer/v1/coles/products/search?limit=20&q=Drinks&start=40&storeId=7716&type=SKU'\n",
    "h = {\n",
    "'Accept-Encoding': 'gzip'\n",
    ",'Connection': 'keep-alive'\n",
    ",'Accept': '*/*' \n",
    ",'User-Agent': 'Shopmate/3.4.1 (iPhone; iOS 11.4.1; Scale/3.00)'\n",
    ",'X-Coles-API-Key': '046bc0d4-3854-481f-80dc-85f9e846503d'\n",
    ",'X-Coles-API-Secret': 'e6ab96ff-453b-45ba-a2be-ae8d7c12cadf'\n",
    ",'Accept-Language': 'en-AU;q=1'\n",
    "}\n",
    "\n",
    "r = requests.get(url, headers=h)"
   ]
  },
  {
   "cell_type": "code",
   "execution_count": 73,
   "metadata": {
    "collapsed": false
   },
   "outputs": [],
   "source": [
    "j = r.json()\n"
   ]
  },
  {
   "cell_type": "code",
   "execution_count": 74,
   "metadata": {
    "collapsed": false
   },
   "outputs": [],
   "source": [
    "results  = j['Results']"
   ]
  },
  {
   "cell_type": "code",
   "execution_count": 75,
   "metadata": {
    "collapsed": false
   },
   "outputs": [
    {
     "name": "stdout",
     "output_type": "stream",
     "text": [
      "20\n"
     ]
    }
   ],
   "source": [
    "print(len(results))"
   ]
  },
  {
   "cell_type": "code",
   "execution_count": 76,
   "metadata": {
    "collapsed": false
   },
   "outputs": [
    {
     "name": "stdout",
     "output_type": "stream",
     "text": [
      "Mango Juice\n",
      "Lemonade Gazoz Drink\n",
      "Pineapple Juice Box 250mL\n",
      "100% Apple Juice Box 200mL\n",
      "Guava Nectar Fruit Drink\n",
      "Apricot Nectar Fruit Drink\n",
      "Cranberry Fruit Drink\n",
      "Low Sugar Cranberry Drink\n",
      "Cranberry Blueberry Drink\n",
      "Tropical Fruit Drink\n",
      "Orange Fruit Drink\n",
      "Cranberry Fruit Drink\n",
      "Apple Fruit Drink\n",
      "Tropical Fruit Drink Chilled\n",
      "Chilled Orange Fruit Drink\n",
      "Hot Lemon Drink\n",
      "Cola Soft Drink\n",
      "Probiotic Drink Blueberry\n",
      "Lychee Aloe Vera Drink\n",
      "Aloe Vera Drink\n"
     ]
    }
   ],
   "source": [
    "for x in results:\n",
    "    print(x['Name'])"
   ]
  },
  {
   "cell_type": "code",
   "execution_count": 26,
   "metadata": {
    "collapsed": false
   },
   "outputs": [
    {
     "name": "stdout",
     "output_type": "stream",
     "text": [
      "dict_values([4978690, 'Natural Spring Water 600ml', '24 pack', 'Frantelle', '/customer/v1/coles/products/images/4978690.jpg', [{'Aisle': 'GROCERY', 'Order': 9999.0, 'Description': 'Grocery', 'AisleSide': None, 'Facing': 0, 'Shelf': 0, 'LayoutId': '0259', 'LayoutName': 'DRINKS - WATER'}, {'Aisle': '6', 'Order': 6.0, 'Description': 'Aisle 6', 'AisleSide': 'Right', 'Facing': 0, 'Shelf': 0, 'LayoutId': '0259', 'LayoutName': 'DRINKS - WATER'}], None, [{'Label': 'drinks', 'Name': 'Drinks', 'TagType': {'Label': 'online-3', 'Name': 'Online 3'}}]])\n",
      "dict_values([7365777, 'Classic Can Soft Drink 24 pack', '375mL', 'Coca-Cola', '/customer/v1/coles/products/images/7365777.jpg', [{'Aisle': '6', 'Order': 6.0, 'Description': 'Aisle 6', 'AisleSide': 'Left', 'Facing': 0, 'Shelf': 0, 'LayoutId': '0304', 'LayoutName': 'DRINKS - CANS BULK PACK'}], None, [{'Label': 'drinks', 'Name': 'Drinks', 'TagType': {'Label': 'online-3', 'Name': 'Online 3'}}]])\n",
      "dict_values([7366022, 'Pepsi Max 375mL Cans Soft Drink', '24 pack', 'Schweppes', '/customer/v1/coles/products/images/7366022.jpg', [{'Aisle': '6', 'Order': 6.0, 'Description': 'Aisle 6', 'AisleSide': 'Left', 'Facing': 0, 'Shelf': 0, 'LayoutId': '0304', 'LayoutName': 'DRINKS - CANS BULK PACK'}], [{'PromotionId': 173021527, 'Type': 'Value (Excl FP)', 'Description': '1/2 Price', 'Price': 10.5, 'WasPrice': 21.0, 'SaveAmount': 10.5, 'UnitPrice': '$1.17 per 1L', 'UnitOfMeasure': 'EA', 'PriceDescription': None, 'StartDate': '2018-08-08T00:00:00', 'EndDate': '2018-08-14T23:59:59', 'SavePercent': 50.0}], [{'Label': 'Drinks', 'Name': 'Drinks', 'TagType': {'Label': 'online-3', 'Name': 'online-3'}}]])\n",
      "dict_values([9391574, 'Solo Lemon 375mL Cans Soft Drink', '24 pack', 'Schweppes', '/customer/v1/coles/products/images/9391574.jpg', [{'Aisle': '6', 'Order': 6.0, 'Description': 'Aisle 6', 'AisleSide': 'Left', 'Facing': 0, 'Shelf': 0, 'LayoutId': '0304', 'LayoutName': 'DRINKS - CANS BULK PACK'}], [{'PromotionId': 173021559, 'Type': 'Value (Excl FP)', 'Description': '1/2 Price', 'Price': 10.5, 'WasPrice': 21.0, 'SaveAmount': 10.5, 'UnitPrice': '$1.17 per 1L', 'UnitOfMeasure': 'EA', 'PriceDescription': None, 'StartDate': '2018-08-08T00:00:00', 'EndDate': '2018-08-14T23:59:59', 'SavePercent': 50.0}], [{'Label': 'Drinks', 'Name': 'Drinks', 'TagType': {'Label': 'online-3', 'Name': 'online-3'}}]])\n",
      "dict_values([2383341, 'Original Green Energy Drink 275mL Cans', '4 pack', 'V', '/customer/v1/coles/products/images/2383341.jpg', [{'Aisle': '6', 'Order': 6.0, 'Description': 'Aisle 6', 'AisleSide': 'Right', 'Facing': 0, 'Shelf': 0, 'LayoutId': '0256', 'LayoutName': 'DRINKS - LIFESTYLE'}], [{'PromotionId': 165505563, 'Type': 'Value (Excl FP)', 'Description': '30% Off', 'Price': 6.0, 'WasPrice': 9.35, 'SaveAmount': 3.35, 'UnitPrice': '$5.45 per 1L', 'UnitOfMeasure': 'EA', 'PriceDescription': None, 'StartDate': '2018-08-08T00:00:00', 'EndDate': '2018-08-14T23:59:59', 'SavePercent': 35.83}], [{'Label': 'Drinks', 'Name': 'Drinks', 'TagType': {'Label': 'online-3', 'Name': 'online-3'}}]])\n",
      "dict_values([2894147, 'Guarana Energy Drink Fridge Pack', '10 pack', 'V', '/customer/v1/coles/products/images/2894147.jpg', [{'Aisle': '6', 'Order': 6.0, 'Description': 'Aisle 6', 'AisleSide': 'Right', 'Facing': 0, 'Shelf': 0, 'LayoutId': '0256', 'LayoutName': 'DRINKS - LIFESTYLE'}], None, [{'Label': 'Drinks', 'Name': 'Drinks', 'TagType': {'Label': 'online-3', 'Name': 'online-3'}}]])\n",
      "dict_values([7388750, 'Guava Energy Drink', '500mL', 'Rockstar', '/customer/v1/coles/products/images/7388750.jpg', None, None, [{'Label': 'Drinks', 'Name': 'Drinks', 'TagType': {'Label': 'online-3', 'Name': 'online-3'}}]])\n",
      "dict_values([8464796, 'Classic Cans Soft Drink 30 pack', '375mL', 'Coca-Cola', '/customer/v1/coles/products/images/8464796.jpg', [{'Aisle': '6', 'Order': 6.0, 'Description': 'Aisle 6', 'AisleSide': 'Left', 'Facing': 0, 'Shelf': 0, 'LayoutId': '0304', 'LayoutName': 'DRINKS - CANS BULK PACK'}], [{'PromotionId': 171861648, 'Type': 'Value (Excl FP)', 'Description': '40% Off', 'Price': 18.0, 'WasPrice': 34.45, 'SaveAmount': 16.45, 'UnitPrice': '$1.60 per 1L', 'UnitOfMeasure': 'EA', 'PriceDescription': None, 'StartDate': '2018-08-08T00:00:00', 'EndDate': '2018-08-14T23:59:59', 'SavePercent': 47.75}], [{'Label': 'Drinks', 'Name': 'Drinks', 'TagType': {'Label': 'online-3', 'Name': 'online-3'}}]])\n",
      "dict_values([3190570, 'Pure 4x250ml', '4 pack', 'V Energy Drink', '/customer/v1/coles/products/images/3190570.jpg', [{'Aisle': '6', 'Order': 6.0, 'Description': 'Aisle 6', 'AisleSide': 'Right', 'Facing': 0, 'Shelf': 0, 'LayoutId': '0256', 'LayoutName': 'DRINKS - LIFESTYLE'}], [{'PromotionId': 165505647, 'Type': 'Value (Excl FP)', 'Description': '30% Off', 'Price': 6.0, 'WasPrice': 9.35, 'SaveAmount': 3.35, 'UnitPrice': '$6.00 per 1L', 'UnitOfMeasure': 'EA', 'PriceDescription': None, 'StartDate': '2018-08-08T00:00:00', 'EndDate': '2018-08-14T23:59:59', 'SavePercent': 35.83}], [{'Label': 'Drinks', 'Name': 'Drinks', 'TagType': {'Label': 'online-3', 'Name': 'online-3'}}]])\n",
      "dict_values([3190569, 'Energy Drink Deadpool Can Limited Edition', '250mL', 'V', '/customer/v1/coles/products/images/3190569.jpg', [{'Aisle': '6', 'Order': 6.0, 'Description': 'Aisle 6', 'AisleSide': 'Right', 'Facing': 0, 'Shelf': 0, 'LayoutId': '0256', 'LayoutName': 'DRINKS - LIFESTYLE'}], None, [{'Label': 'Drinks', 'Name': 'Drinks', 'TagType': {'Label': 'online-3', 'Name': 'online-3'}}]])\n",
      "dict_values([3190580, 'Lewis Hamilton Grape', '500mL', 'Monster Energy', '/customer/v1/coles/products/images/3190580.jpg', [{'Aisle': '6', 'Order': 6.0, 'Description': 'Aisle 6', 'AisleSide': 'Right', 'Facing': 0, 'Shelf': 0, 'LayoutId': '0256', 'LayoutName': 'DRINKS - LIFESTYLE'}], None, [{'Label': 'Drinks', 'Name': 'Drinks', 'TagType': {'Label': 'online-3', 'Name': 'online-3'}}]])\n",
      "dict_values([2383363, 'Energy Drink Blue 4 x 275ml Cans', '4 pack', 'V', '/customer/v1/coles/products/images/2383363.jpg', [{'Aisle': '6', 'Order': 6.0, 'Description': 'Aisle 6', 'AisleSide': 'Right', 'Facing': 0, 'Shelf': 0, 'LayoutId': '0256', 'LayoutName': 'DRINKS - LIFESTYLE'}], [{'PromotionId': 165505631, 'Type': 'Value (Excl FP)', 'Description': '30% Off', 'Price': 6.0, 'WasPrice': 9.35, 'SaveAmount': 3.35, 'UnitPrice': '$5.45 per 1L', 'UnitOfMeasure': 'EA', 'PriceDescription': None, 'StartDate': '2018-08-08T00:00:00', 'EndDate': '2018-08-14T23:59:59', 'SavePercent': 35.83}], [{'Label': 'Drinks', 'Name': 'Drinks', 'TagType': {'Label': 'online-3', 'Name': 'online-3'}}]])\n",
      "dict_values([1492443, 'Zero 250mL Cans Energy Drink 4 Pack', '4 pack', 'Red Bull', '/customer/v1/coles/products/images/1492443.jpg', [{'Aisle': '6', 'Order': 6.0, 'Description': 'Aisle 6', 'AisleSide': 'Right', 'Facing': 0, 'Shelf': 0, 'LayoutId': '0256', 'LayoutName': 'DRINKS - LIFESTYLE'}], None, [{'Label': 'Drinks', 'Name': 'Drinks', 'TagType': {'Label': 'online-3', 'Name': 'online-3'}}]])\n",
      "dict_values([3192495, 'Energy Drink 473mL', '4 pack', 'Red Bull', '/customer/v1/coles/products/images/3192495.jpg', [{'Aisle': '6', 'Order': 6.0, 'Description': 'Aisle 6', 'AisleSide': 'Right', 'Facing': 0, 'Shelf': 0, 'LayoutId': '0256', 'LayoutName': 'DRINKS - LIFESTYLE'}], None, [{'Label': 'Drinks', 'Name': 'Drinks', 'TagType': {'Label': 'online-3', 'Name': 'online-3'}}]])\n",
      "dict_values([2785017, 'Sugar Free Original Energy Drink Can', '473mL', 'Red Bull', '/customer/v1/coles/products/images/2785017.jpg', [{'Aisle': '6', 'Order': 6.0, 'Description': 'Aisle 6', 'AisleSide': 'Right', 'Facing': 0, 'Shelf': 0, 'LayoutId': '0256', 'LayoutName': 'DRINKS - LIFESTYLE'}], None, [{'Label': 'Drinks', 'Name': 'Drinks', 'TagType': {'Label': 'online-3', 'Name': 'online-3'}}]])\n",
      "dict_values([2785108, 'Zero Ultra Energy Drink Cans 4 Pack', '500ml', 'Monster', '/customer/v1/coles/products/images/2785108.jpg', [{'Aisle': '6', 'Order': 6.0, 'Description': 'Aisle 6', 'AisleSide': 'Right', 'Facing': 0, 'Shelf': 0, 'LayoutId': '0256', 'LayoutName': 'DRINKS - LIFESTYLE'}], [{'PromotionId': 172314178, 'Type': 'Value (Excl FP)', 'Description': '40% Off', 'Price': 7.0, 'WasPrice': 11.7, 'SaveAmount': 4.7, 'UnitPrice': '$3.50 per 1L', 'UnitOfMeasure': 'EA', 'PriceDescription': None, 'StartDate': '2018-08-08T00:00:00', 'EndDate': '2018-08-14T23:59:59', 'SavePercent': 40.17}], [{'Label': 'Drinks', 'Name': 'Drinks', 'TagType': {'Label': 'online-3', 'Name': 'online-3'}}]])\n",
      "dict_values([2787147, 'Ultra Can Energy Drink', '500mL', 'Monster', '/customer/v1/coles/products/images/2787147.jpg', [{'Aisle': '6', 'Order': 6.0, 'Description': 'Aisle 6', 'AisleSide': 'Right', 'Facing': 0, 'Shelf': 0, 'LayoutId': '0256', 'LayoutName': 'DRINKS - LIFESTYLE'}], None, [{'Label': 'Drinks', 'Name': 'Drinks', 'TagType': {'Label': 'online-3', 'Name': 'online-3'}}]])\n",
      "dict_values([1492454, 'Zero Energy Drink Can', '250mL', 'Red Bull', '/customer/v1/coles/products/images/1492454.jpg', [{'Aisle': '6', 'Order': 6.0, 'Description': 'Aisle 6', 'AisleSide': 'Right', 'Facing': 0, 'Shelf': 0, 'LayoutId': '0256', 'LayoutName': 'DRINKS - LIFESTYLE'}], None, [{'Label': 'Drinks', 'Name': 'Drinks', 'TagType': {'Label': 'online-3', 'Name': 'online-3'}}]])\n",
      "dict_values([3269705, 'Tortured Orchard Raspberry Lemonade Energy Drink Can', '250mL', 'V', '/customer/v1/coles/products/images/3269705.jpg', [{'Aisle': None, 'Order': 9999.0, 'Description': None, 'AisleSide': None, 'Facing': 0, 'Shelf': 0, 'LayoutId': '0608', 'LayoutName': 'FLEX - FOOTY FINALS'}], None, [{'Label': 'Drinks', 'Name': 'Drinks', 'TagType': {'Label': 'online-3', 'Name': 'online-3'}}]])\n",
      "dict_values([1046120, 'Original Chilled Can Energy Drink', '250mL', 'Mother', '/customer/v1/coles/products/images/1046120.jpg', [{'Aisle': 'SERVICE', 'Order': 9999.0, 'Description': 'Service desk', 'AisleSide': 'Front of Store', 'Facing': 0, 'Shelf': 0, 'LayoutId': '9049', 'LayoutName': 'COLD DRINK - OD290/330'}], [{'PromotionId': 170376039, 'Type': 'Every Day', 'Description': None, 'Price': 2.0, 'WasPrice': None, 'SaveAmount': None, 'UnitPrice': '$8.00 per 1L', 'UnitOfMeasure': 'EA', 'PriceDescription': None, 'StartDate': '2018-07-04T00:00:00', 'EndDate': '2018-10-14T23:59:59', 'SavePercent': None}], [{'Label': 'Drinks', 'Name': 'Drinks', 'TagType': {'Label': 'online-3', 'Name': 'online-3'}}]])\n"
     ]
    }
   ],
   "source": [
    "for value in results:\n",
    "    print(value.values())"
   ]
  },
  {
   "cell_type": "code",
   "execution_count": null,
   "metadata": {
    "collapsed": true
   },
   "outputs": [],
   "source": []
  }
 ],
 "metadata": {
  "kernelspec": {
   "display_name": "Python 3.6",
   "language": "python",
   "name": "python3.6"
  },
  "language_info": {
   "codemirror_mode": {
    "name": "ipython",
    "version": 3
   },
   "file_extension": ".py",
   "mimetype": "text/x-python",
   "name": "python",
   "nbconvert_exporter": "python",
   "pygments_lexer": "ipython3",
   "version": "3.6.0"
  }
 },
 "nbformat": 4,
 "nbformat_minor": 0
}
